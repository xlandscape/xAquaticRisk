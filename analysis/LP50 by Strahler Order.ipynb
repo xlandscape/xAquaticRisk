{
 "cells": [
  {
   "cell_type": "markdown",
   "metadata": {},
   "source": [
    "# LP50 by Strahler Order\n",
    "\n",
    "The following code snippet produces a saves a cumulative plot of LP50 values per Strahler order."
   ]
  },
  {
   "cell_type": "code",
   "execution_count": null,
   "metadata": {},
   "outputs": [],
   "source": [
    "source(\"functions/analysis.R\")\n",
    "\n",
    "lp50_strahler(\n",
    "    store            = \"sample/store2/arr.dat\",\n",
    "    simulation_start = \"/PPM/SimulationStart\",\n",
    "    dataset          = \"/IndEffect_LP50_CascadeToxswa_IT_Species1/LP50\",\n",
    "    dataset_reaches  = \"/CascadeToxswa/Reaches\",\n",
    "    strahler         = \"/LandscapeScenario/hydrography_strahler_order\",\n",
    "    strahler_reaches = \"/LandscapeScenario/hydrography_id\",\n",
    "    output_file      = \"reporting/LP50_cumulative_plot_per_strahler.png\"\n",
    ")"
   ]
  }
 ],
 "metadata": {
  "kernelspec": {
   "display_name": "R",
   "language": "R",
   "name": "ir"
  },
  "language_info": {
   "codemirror_mode": "r",
   "file_extension": ".r",
   "mimetype": "text/x-r-source",
   "name": "R",
   "pygments_lexer": "r",
   "version": "3.5.1"
  }
 },
 "nbformat": 4,
 "nbformat_minor": 4
}
