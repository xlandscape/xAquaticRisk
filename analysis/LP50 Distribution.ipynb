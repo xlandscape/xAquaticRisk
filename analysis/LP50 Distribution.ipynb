{
 "cells": [
  {
   "cell_type": "markdown",
   "metadata": {},
   "source": [
    "# LP50 Distribution\n",
    "This notebook uses the Landscape Model high-level API and the `ReportingDistribution` component to visualize the",
    " distribution of LP50 values of a simulation."
   ]
  },
  {
   "cell_type": "code",
   "execution_count": null,
   "metadata": {},
   "outputs": [],
   "source": [
    "import components\n",
    "\n",
    "components.ReportingDistribution.draw(\n",
    "    data_store  = \"sample/store\",\n",
    "    values      = \"LP50_CascadeToxswa_SD_Species1/LP50\",\n",
    "    x_label     = \"LP50\",\n",
    "    title       = \"LP50 Asellus aquaticus SD (CascadeToxswa)\",\n",
    "    x_min       = 0.0,\n",
    "    x_max       = 100.0,\n",
    "    output_file = \"reporting/CascadeToxswa LP50 Asellus SD Distribution.png\"\n",
    ")"
   ]
  }
 ],
 "metadata": {
  "kernelspec": {
   "display_name": "Python 3",
   "language": "python",
   "name": "python3"
  },
  "language_info": {
   "codemirror_mode": {
    "name": "ipython",
    "version": 3
   },
   "file_extension": ".py",
   "mimetype": "text/x-python",
   "name": "python",
   "nbconvert_exporter": "python",
   "pygments_lexer": "ipython3",
   "version": "3.8.3"
  }
 },
 "nbformat": 4,
 "nbformat_minor": 4
}
