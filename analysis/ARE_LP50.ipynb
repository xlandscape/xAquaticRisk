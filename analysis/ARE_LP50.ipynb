{
 "cells": [
  {
   "cell_type": "markdown",
   "id": "8da303d9-1d26-4a3d-a91c-e0982d3a8140",
   "metadata": {},
   "source": [
    "# Reporting and Analysis of LP50 Results\n",
    "\n",
    "The LP50 (lethal profile 50%) represents the multiplication factor of the exposure profile at which 50% of individuals of *Asellus aquaticus*, *Cloeon dipterum*, and *Gammarus pulex*. Survival is modelled using the General Unified Threshold Models for Survival (GUTS) and for the Individual Tolerance (IT) and Stochastic Death (SD) model flavours (e.g., Jager *et al*., 2011).\n",
    "\n",
    "In the landscape context, there are several ways to aggregate and interpret model outputs. This Notebook shows, step by step, how the LP50 values are aggregated and subsequently plotted for further use in reports.\n",
    "\n",
    "As a first step, the R-kernel needs to be prepared by loading the required functions into the R environment along with the required R packages and the basic GIS layer. It is strongly advised to leave the code-block below unaltered as this may corrupt the notebook. In the following block, with the *prepareLP50Data*-function the workspace is prepared and the LP50 values are collected and processed from the data store. First, the data is aggregated, this is done by assigning Strahler orders to reaches, then within Strahler orders reaches are sorted based on their median value over the 20 assessment period (which is in line with FOCUS scenarios). "
   ]
  },
  {
   "cell_type": "code",
   "execution_count": null,
   "id": "ceddec10-0b4d-43a1-b9ff-b1ca513308ec",
   "metadata": {
    "tags": [],
    "vscode": {
     "languageId": "r"
    }
   },
   "outputs": [],
   "source": [
    "source(\"iFEM/ifem_functions.R\"); prepareEnvironmentR(first.year, last.year,\n",
    "                                first.application.day,\n",
    "                                last.application.day,\n",
    "                                first.application.month,\n",
    "                                last.application.month,\n",
    "                                hydrography.file.path)\n",
    "\n",
    "df <- prepareLP50Data() # this function will store all required information in a list"
   ]
  },
  {
   "cell_type": "markdown",
   "id": "4ca92713-d654-43ba-bb1b-9cf3db60de35",
   "metadata": {},
   "source": [
    "With the data ready for plotting, output plots can be made. First a folder is created to store the output plots. In the code-block below the output folder is created, this section can be adapted to have differently named folders."
   ]
  },
  {
   "cell_type": "code",
   "execution_count": null,
   "id": "962307cf-a1a2-4ac2-96e4-f776d2cbb518",
   "metadata": {
    "vscode": {
     "languageId": "r"
    }
   },
   "outputs": [],
   "source": [
    "# these lines of code create a designated folder where outputs will be stored\n",
    "file_path <- paste0(\"../run/INSERT_RUN_NAME/output/\", \"/LP50_Risk_Stories/\")\n",
    "if(!dir.exists(file_path)){dir.create(file_path)}"
   ]
  },
  {
   "cell_type": "markdown",
   "id": "e38c4f8f-3db4-4a0f-895c-cf4b1a837527",
   "metadata": {},
   "source": [
    "The function below will plot create LP50 plots. All required information is stored in the list named \"df\". The scales, colouring, and linewidths can adjusted depending on preference. Plots will be automatically saved in the output folder. However, they are also stored in a list, which can be displayed individually if required (see below)."
   ]
  },
  {
   "cell_type": "code",
   "execution_count": null,
   "id": "d0b668d5-deb3-4fcf-8940-f49d35404d8d",
   "metadata": {
    "vscode": {
     "languageId": "r"
    }
   },
   "outputs": [],
   "source": [
    "LP50.plots <- createLP50byStrahlerPlot(lp50 = df$lp50,\n",
    "                                       reach.info = df$reach.info,\n",
    "                                       medLP50 = df$medLP50,\n",
    "                                       breaks_y = c(-2,-1,0,1,2,3,4,5),\n",
    "                                       labels_y = c(\"0.01\",\"0.1\",\"1\",\"10\",\"100\",\"1000\",\"10000\",\"100000\"),\n",
    "                                       point_colour = \"red\",\n",
    "                                       linewidth = 0.75,\n",
    "                                       LP50_category_colours = c(\"red\",\"orange\",\"yellow\"),\n",
    "                                       output.folder = file_path)\n",
    "\n",
    "\n",
    "STLP50.plots <- createSpatialTemporalLP50Plots(lp50 = df$lp50,\n",
    "                                               reach.info = df$reach.info,\n",
    "                                               output.folder = file_path, \n",
    "                                               temporal.conditioning.year = 1)"
   ]
  },
  {
   "cell_type": "markdown",
   "id": "7759ac55-dfb3-4155-82aa-043d4f58cc4a",
   "metadata": {},
   "source": [
    "# Outputs *Asellus aquaticus*"
   ]
  },
  {
   "cell_type": "code",
   "execution_count": null,
   "id": "ae49b630-cf0c-423e-98ef-2134e0f24961",
   "metadata": {
    "vscode": {
     "languageId": "r"
    }
   },
   "outputs": [],
   "source": [
    "LP50.plots[[1]] + LP50.plots[[4]]\n",
    "STLP50.plots$plots$CondP_1_Asellus_aquaticus_it + STLP50.plots$plots$CondP_1_Asellus_aquaticus_sd"
   ]
  },
  {
   "cell_type": "markdown",
   "id": "744c072b-0fc6-4ff8-9bf8-d3529ccc8b88",
   "metadata": {},
   "source": [
    "# Outputs *Cloeon dipterum*"
   ]
  },
  {
   "cell_type": "code",
   "execution_count": null,
   "id": "e153d56b-1f26-4829-a235-1b7dd900ee6d",
   "metadata": {
    "vscode": {
     "languageId": "r"
    }
   },
   "outputs": [],
   "source": [
    "LP50.plots[[2]] + LP50.plots[[5]]\n",
    "STLP50.plots$plots$CondP_1_Cloeon_dipterum_it + STLP50.plots$plots$CondP_1_Cloeon_dipterum_sd"
   ]
  },
  {
   "cell_type": "markdown",
   "id": "f7ddd08a-8d5c-4a72-b2de-e8fa6e1715a0",
   "metadata": {},
   "source": [
    "# Outputs *Gammarus pulex*"
   ]
  },
  {
   "cell_type": "code",
   "execution_count": null,
   "id": "c7cc736e-2a51-44a2-a1b6-44b375b4c1d0",
   "metadata": {
    "vscode": {
     "languageId": "r"
    }
   },
   "outputs": [],
   "source": [
    "LP50.plots[[3]] + LP50.plots[[6]]\n",
    "STLP50.plots$plots$CondP_1_Gammarus_pulex_it + STLP50.plots$plots$CondP_1_Gammarus_pulex_sd"
   ]
  },
  {
   "cell_type": "code",
   "execution_count": null,
   "id": "eb013519-b278-4e56-83a7-bffb7be8116a",
   "metadata": {
    "vscode": {
     "languageId": "r"
    }
   },
   "outputs": [],
   "source": []
  }
 ],
 "metadata": {
  "kernelspec": {
   "display_name": "R",
   "language": "R",
   "name": "ir"
  },
  "language_info": {
   "codemirror_mode": "r",
   "file_extension": ".r",
   "mimetype": "text/x-r-source",
   "name": "R",
   "pygments_lexer": "r",
   "version": "4.0.4"
  }
 },
 "nbformat": 4,
 "nbformat_minor": 5
}
