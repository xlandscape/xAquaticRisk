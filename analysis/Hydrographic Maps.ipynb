{
 "cells": [
  {
   "cell_type": "markdown",
   "metadata": {},
   "source": [
    "# Hydrographic Maps\n",
    "This notebook uses the Landscape Model high-level Python API to plot values in a hydrographic network at a ",
    "specified point in time.\n",
    "\n",
    "## PEC\n",
    "The first example shows how to plot the PEC values calculated by CascadeToxswa for the 2.5.2015 12:00."
   ]
  },
  {
   "cell_type": "code",
   "execution_count": null,
   "metadata": {},
   "outputs": [],
   "source": [
    "import components\n",
    "import datetime\n",
    "\n",
    "components.ReportingHydrographicMap.draw(\n",
    "    data_store             = \"sample/store\",\n",
    "    displayed_time         = datetime.datetime(2015, 5, 2, 12),\n",
    "    title                  = \"CascadeToxswa simulated PEC on 2015-05-02 12:00 [g/m³]\",\n",
    "    output_file            = \"reporting/CascadeToxswa PEC 2015-05-02 1200.png\",\n",
    "    displayed_unit         = \"g/m³\",\n",
    "    scale_max_value        = 1e-2,\n",
    "    scale_min_value        = 1e-7,\n",
    "    values_normalization   = \"log10\",\n",
    "    hydrography            = \"LandscapeScenario/hydrography_geom\",\n",
    "    hydrographic_reach_ids = \"LandscapeScenario/hydrography_id\",\n",
    "    simulation_start       = \"Hydrology/FromTime\",\n",
    "    values                 = \"CascadeToxswa/ConLiqWatTgtAvg\",\n",
    "    values_reach_ids       = \"CascadeToxswa/Reaches\"\n",
    ")"
   ]
  },
  {
   "cell_type": "markdown",
   "metadata": {},
   "source": [
    "### Details\n",
    "\n",
    "The central part of the generation of the reporting element is the ReportingHydrographicMap component. It is a ",
    "generic implementation that extracts a temporal slice of values with scales \"time/hour, space/base_geometry\" ",
    "or \"time/year, space/base_geometry\" and maps it to a hydrographic network represented by geo-spatial line ",
    "features. It can be simply run using its static `draw` method.\n",
    "\n",
    "The method expects the following arguments:\n",
    "\n",
    "* A `daa_store` that contains the simulated data. This is a HDF5 file named _arr.dat_ and the path wher his file ",
    "is located has to be specified here.\n",
    "* A `hydrography` that represents the hydographic network as geo-spatial line features. These data are part of ",
    "the landscape scenario. The name of the datasets is defined by the scenario provider and is described in the ",
    "_package.xinfo_ that is mandatory part of the scenario.\n",
    "* The `hydrographic_reach_ids\"` that assign an unique identifier to every reach in the hydrography. These are ",
    "also provided by the landscape scenario. In future versions, the labelling of elements might become a meta-datum ",
    "of the `hydrography`, but currently it is represented as an individual datum. The name of the datasets is ",
    "defined by the scenario provider and is described in the _package.xinfo_ that is mandatory part of the ",
    "scenario.\n",
    "* The `simulation_start` that identifies the first date of the simulation. This normally stems from a user ",
    "parameterization and is used by many components for temporal referencing. Again, in future versions this will ",
    "probably become a meta-datum, but currently is a datum on its own. Here, the `\"Hydrology\"` component is used ",
    "as provider of the `\"SimulationStart\"`.\n",
    "* The `displayed_time` defines the single point in time that will be shown in the generated map.\n",
    "* The `values` are the dataset containing the numerical values that are mapped to the hydrographic network. ",
    "These are typically results reported by a component during simulation. Values are taken here from the ",
    "`\"CascadeToxswa\"` component and represent the concentrations in water.\n",
    "* The `values_reach_ids` give the identifiers that link indiviudal values to geo-spatial features. See ",
    "`hydrographic_reach_ids`.\n",
    "* A `title` that will be displayed above the plotted map.\n",
    "* The `output_file` that is the path where the plotted map is written to as a graphics file.\n",
    "* The `displayed_unit` is the physical unit in which values are shown. Values must be convertable into this ",
    "unit. It is an optional parameter and if not specified, the physical unit in which the values are stored is ",
    "used.\n",
    "* The `scale_min_value` and the `scale_max_value` define the numerical range in which values are mapped to a ",
    "color palette. Values below the `scale_min_value` will be displayed with the color for the `scale_min_value\"` ",
    "and values above the `scale_max_value\"` will be displayed with the color of the `scale_max_value\"`. Both ",
    "inputs are optional, and if not set default to the natural minimum and maximum of the values to be displayed.\n",
    "* `values_normalization` specifies whether a normalization of values for mapping to the color palette should ",
    "take place. If set to `\"log10\"`, values ae normalized by their logarithm to base 10.\n",
    "* `color_map` is an array of color names that specify the color gradient used for displaying the values. If no ",
    "input is specified, a green-yellow-red gradient is used.\n",
    "\n",
    "\n",
    "## LP50\n",
    "\n",
    "The next example shows LP50 values for the year 2015:"
   ]
  },
  {
   "cell_type": "code",
   "execution_count": null,
   "metadata": {},
   "outputs": [],
   "source": [
    "components.ReportingHydrographicMap.draw(\n",
    "    data_store             = \"sample/store\",\n",
    "    displayed_time         = datetime.datetime(2015, 12, 31),\n",
    "    title                  = \"LP50 Asellus aquaticus SD in 2015 (CascadeToxswa)\",\n",
    "    output_file            = \"reporting/CascadeToxswa LP50 Asellus SD.png\",\n",
    "    scale_max_value        = 2.0,\n",
    "    scale_min_value        = 0.0,\n",
    "    color_map              = [\"red\", \"yellow\", \"green\"],\n",
    "    hydrography            = \"LandscapeScenario/hydrography_geom\",\n",
    "    hydrographic_reach_ids = \"LandscapeScenario/hydrography_id\",\n",
    "    simulation_start       = \"Hydrology/FromTime\",\n",
    "    values                 = \"LP50_CascadeToxswa_SD_Species1/LP50\",\n",
    "    values_reach_ids       = \"CascadeToxswa/Reaches\"\n",
    ")"
   ]
  }
 ],
 "metadata": {
  "kernelspec": {
   "display_name": "Python 3",
   "language": "python",
   "name": "python3"
  },
  "language_info": {
   "codemirror_mode": {
    "name": "ipython",
    "version": 3
   },
   "file_extension": ".py",
   "mimetype": "text/x-python",
   "name": "python",
   "nbconvert_exporter": "python",
   "pygments_lexer": "ipython3",
   "version": "3.8.3"
  }
 },
 "nbformat": 4,
 "nbformat_minor": 4
}
