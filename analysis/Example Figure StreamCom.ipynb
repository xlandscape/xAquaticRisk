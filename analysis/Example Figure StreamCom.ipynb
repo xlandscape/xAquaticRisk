{
 "cells": [
  {
   "cell_type": "markdown",
   "metadata": {},
   "source": [
    "# Example figure StreamCom\n",
    "```\n",
    "Sascha Bub - version 1.0 - 09.08.2021  \n",
    "```\n",
    "\n",
    "This example figure was originally drafted by Tido Strauss, gaiac. The Jupyter notebook presented here shows, ",
    "how the figure can be generated from Landscape Model runs.\n",
    "\n",
    "Here, the original description of the figure:\n",
    "> The model-internal Monte-Carlo simulations are averaged to one value. The number of \"external\" Monte-Carlo ",
    "simulations is displayed as the mean value with deviation. \n",
    "> (Note: If StreamCom-internal Monte-Carlo simulations should also be displayed, the same figure type can be ",
    "used).\n",
    "Figures are created for each simulated taxon. The abundance (sum of all animals in the entire river segment) is ",
    "displayed.\n",
    ">\n",
    "> Suggestion:\n",
    "> 1. linear y-axis with absolute abundances over time\n",
    "> 2. log-scaled y-axis with treatments over time normalized to the mean value of the controls\n",
    "\n"
   ]
  },
  {
   "cell_type": "code",
   "execution_count": null,
   "metadata": {
    "scrolled": false
   },
   "outputs": [],
   "source": [
    "import stores\n",
    "import numpy\n",
    "import matplotlib.pyplot\n",
    "\n",
    "# Load population of three control runs and average internal StreamCom runs\n",
    "store = stores.X3dfStore(\"sample/stream_com/control/MC1\", mode=\"r\")\n",
    "pop_control = store.get_values(\"StreamCom2_CascadeToxswa/population_output_Asellus aquaticus\").mean(1)\n",
    "store = stores.X3dfStore(\"sample/stream_com/control/MC2\", mode=\"r\")\n",
    "pop_control = numpy.c_[pop_control, store.get_values(\"",
    "StreamCom2_CascadeToxswa/population_output_Asellus aquaticus\").mean(1)]\n",
    "store = stores.X3dfStore(\"sample/stream_com/control/MC3\", mode=\"r\")\n",
    "pop_control = numpy.c_[pop_control, store.get_values(\"",
    "StreamCom2_CascadeToxswa/population_output_Asellus aquaticus\").mean(1)]\n",
    "\n",
    "# Load population of three runs with treatments and average internal StreamCom runs\n",
    "store = stores.X3dfStore(\"sample/stream_com/treatment/MC1\", mode=\"r\")\n",
    "pop_treatment = store.get_values(\"",
    "StreamCom2_CascadeToxswa/population_output_exposure_Asellus aquaticus\").mean(1)\n",
    "store = stores.X3dfStore(\"sample/stream_com/treatment/MC2\", mode=\"r\")\n",
    "pop_treatment = numpy.c_[pop_treatment, store.get_values(\"",
    "StreamCom2_CascadeToxswa/population_output_exposure_Asellus aquaticus\").mean(1)]\n",
    "store = stores.X3dfStore(\"sample/stream_com/treatment/MC3\", mode=\"r\")\n",
    "pop_treatment = numpy.c_[pop_treatment, store.get_values(\"",
    "StreamCom2_CascadeToxswa/population_output_exposure_Asellus aquaticus\").mean(1)]\n",
    "\n",
    "# Plot the data in absolute terms\n",
    "fig = matplotlib.pyplot.figure()\n",
    "ax = fig.add_subplot(title=\"Absolute values - Asellus aquaticus\", xlabel=\"Day\", ylabel=\"Abundance\")\n",
    "ax.plot(pop_control.mean(1), color=\"black\")\n",
    "ax.plot(pop_control.min(1), color=\"grey\")\n",
    "ax.plot(pop_control.max(1), color=\"grey\")\n",
    "ax.plot(pop_treatment.mean(1), color=\"red\")\n",
    "ax.plot(pop_treatment.min(1), color=\"darkred\")\n",
    "ax.plot(pop_treatment.max(1), color=\"darkred\")\n",
    "matplotlib.pyplot.show()\n",
    "\n",
    "# Plot the data in relative\n",
    "fig = matplotlib.pyplot.figure()\n",
    "ax = fig.add_subplot(title=\"Absolute values - Asellus aquaticus\", xlabel=\"Day\", ylabel=\"Abundance\")\n",
    "ax.plot(pop_control.mean(1) / pop_control.mean(1), color=\"black\")\n",
    "ax.plot(pop_control.min(1) / pop_control.mean(1), color=\"grey\")\n",
    "ax.plot(pop_control.max(1) / pop_control.mean(1), color=\"grey\")\n",
    "ax.plot(pop_treatment.mean(1) / pop_control.mean(1), color=\"red\")\n",
    "ax.plot(pop_treatment.min(1) / pop_control.mean(1), color=\"darkred\")\n",
    "ax.plot(pop_treatment.max(1) / pop_control.mean(1), color=\"darkred\")\n",
    "matplotlib.pyplot.show()"
   ]
  },
  {
   "cell_type": "markdown",
   "metadata": {},
   "source": [
    "> **Black**: Mean value (bold) and 5% / 95% percentile of the control runs (if ≤ 20 Monte Carlo simulations, ",
    "then minimum and maximum values per day)  \n",
    "> **Red**: Mean value (bold) and 5% / 95% percentile of treatments (if ≤ 20 Monte Carlo simulations, then ",
    "minimum and maximum values per day)\n",
    ">\n",
    "> The area between the percentiles can also be colored grey (controls) or light red (treatments).  \n",
    "> The figures are also conceivable for controls and treatments separately.\n"
   ]
  }
 ],
 "metadata": {
  "kernelspec": {
   "display_name": "Python 3",
   "language": "python",
   "name": "python3"
  },
  "language_info": {
   "codemirror_mode": {
    "name": "ipython",
    "version": 3
   },
   "file_extension": ".py",
   "mimetype": "text/x-python",
   "name": "python",
   "nbconvert_exporter": "python",
   "pygments_lexer": "ipython3",
   "version": "3.8.3"
  }
 },
 "nbformat": 4,
 "nbformat_minor": 4
}
