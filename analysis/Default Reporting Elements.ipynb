{
 "cells": [
  {
   "cell_type": "markdown",
   "metadata": {},
   "source": [
    "# Default Reporting Elements\n",
    "## General\n",
    "### Functions"
   ]
  },
  {
   "cell_type": "code",
   "execution_count": 40,
   "metadata": {},
   "outputs": [],
   "source": [
    "source(\"default_reporting_elements.R\")"
   ]
  },
  {
   "cell_type": "markdown",
   "metadata": {},
   "source": [
    "### Parameterization"
   ]
  },
  {
   "cell_type": "code",
   "execution_count": 9,
   "metadata": {},
   "outputs": [],
   "source": [
    "experiment_dir <- \"E:\\\\xAquatic_2.10.210119\\\\run\\\\UC1-40.2.210120\""
   ]
  },
  {
   "cell_type": "markdown",
   "metadata": {},
   "source": [
    "## PECsw\n",
    "### Percentiles table"
   ]
  },
  {
   "cell_type": "code",
   "execution_count": null,
   "metadata": {},
   "outputs": [],
   "source": [
    "percentiles_table(\n",
    "    experiment_dir         = experiment_dir,\n",
    "    dataset                = \"/CascadeToxswa/ConLiqWatTgtAvg\",\n",
    "    unit_conversion_factor = 1000,\n",
    "    reaches                = \"/CascadeToxswa/Reaches\",\n",
    "    simulation_start       = \"/PPM/SimulationStart\",\n",
    "    hydrography_ids        = \"/LandscapeScenario/hydrography_id\",\n",
    "    strahler_order         = \"/LandscapeScenario/hydrography_strahler_order\",\n",
    "    output_file            = file.path(experiment_dir, \"PECsw_percentiles.csv\")\n",
    ")"
   ]
  },
  {
   "cell_type": "markdown",
   "metadata": {},
   "source": [
    "### PEC exceedance duration"
   ]
  },
  {
   "cell_type": "code",
   "execution_count": null,
   "metadata": {},
   "outputs": [],
   "source": [
    "duration_exceedance_table(\n",
    "    experiment_dir         = experiment_dir,\n",
    "    dataset                = \"/CascadeToxswa/ConLiqWatTgtAvg\",\n",
    "    unit_conversion_factor = 1000,\n",
    "    reaches                = \"/CascadeToxswa/Reaches\",\n",
    "    simulation_start       = \"/PPM/SimulationStart\",\n",
    "    hydrography_ids        = \"/LandscapeScenario/hydrography_id\",\n",
    "    strahler_order         = \"/LandscapeScenario/hydrography_strahler_order\",\n",
    "    output_file            = file.path(experiment_dir, \"PECsw_duration_PECexceedance.csv\")\n",
    ")"
   ]
  },
  {
   "cell_type": "markdown",
   "metadata": {},
   "source": [
    "### PEC exceedance frequencies"
   ]
  },
  {
   "cell_type": "code",
   "execution_count": null,
   "metadata": {},
   "outputs": [],
   "source": [
    "frequency_exceedance_table(\n",
    "    experiment_dir         = experiment_dir,\n",
    "    dataset                = \"/CascadeToxswa/ConLiqWatTgtAvg\",\n",
    "    unit_conversion_factor = 1000,\n",
    "    reaches                = \"/CascadeToxswa/Reaches\",\n",
    "    simulation_start       = \"/PPM/SimulationStart\",\n",
    "    hydrography_ids        = \"/LandscapeScenario/hydrography_id\",\n",
    "    strahler_order         = \"/LandscapeScenario/hydrography_strahler_order\",\n",
    "    output_file            = file.path(experiment_dir, \"PECsw_frequency_PECexceedance.csv\")\n",
    ")"
   ]
  },
  {
   "cell_type": "markdown",
   "metadata": {},
   "source": [
    "### PECs for one MC"
   ]
  },
  {
   "cell_type": "code",
   "execution_count": 10,
   "metadata": {},
   "outputs": [],
   "source": [
    "pecs <- load_values_first_mc(\n",
    "    experiment_dir         = experiment_dir,\n",
    "    dataset                = \"/CascadeToxswa/ConLiqWatTgtAvg\",\n",
    "    unit_conversion_factor = 1000,\n",
    "    reaches                = \"/CascadeToxswa/Reaches\",\n",
    "    simulation_start       = \"/PPM/SimulationStart\",\n",
    "    hydrography_ids        = \"/LandscapeScenario/hydrography_id\",\n",
    "    strahler_order         = \"/LandscapeScenario/hydrography_strahler_order\"\n",
    ")"
   ]
  },
  {
   "cell_type": "markdown",
   "metadata": {},
   "source": [
    "### PEC boxplot"
   ]
  },
  {
   "cell_type": "code",
   "execution_count": null,
   "metadata": {},
   "outputs": [],
   "source": [
    "boxplot_global(\n",
    "    data         = pecs[year < 2016],\n",
    "    value        = \"pec\",\n",
    "    y_axis_label = \"log10(PECsw [ug/l])\"\n",
    "    output_file  = file.path(experiment_dir, \"PECsw_box_plot_global.png\")\n",
    ")"
   ]
  },
  {
   "cell_type": "markdown",
   "metadata": {},
   "source": [
    "### PEC boxplot per reach"
   ]
  },
  {
   "cell_type": "code",
   "execution_count": null,
   "metadata": {},
   "outputs": [],
   "source": [
    "boxplot_reaches(\n",
    "    data         = pecs[year < 2016],\n",
    "    value        = \"pec\",\n",
    "    reaches      = c(10, 570, 580, 1807),\n",
    "    y_axis_label = \"log10(PECsw [ug/l])\",\n",
    "    output_file  = file.path(experiment_dir, \"PECsw_box_plot_reaches.png\")\n",
    ")"
   ]
  },
  {
   "cell_type": "markdown",
   "metadata": {},
   "source": [
    "### PEC timeseries per reach"
   ]
  },
  {
   "cell_type": "code",
   "execution_count": null,
   "metadata": {},
   "outputs": [],
   "source": [
    "lineplot_reaches(\n",
    "    data             = pecs[year < 2016],\n",
    "    value            = \"pec\",\n",
    "    reaches          = c(10, 570, 580, 1807),\n",
    "    from_day_of_year = 108,\n",
    "    to_day_of_year   = 132,\n",
    "    y_axis_label     = \"log10(PECsw [ug/l])\",\n",
    "    output_file      = file.path(experiment_dir, \"PECsw_line_plot_reaches.png\")\n",
    ")"
   ]
  },
  {
   "cell_type": "markdown",
   "metadata": {},
   "source": [
    "### PEC CDF"
   ]
  },
  {
   "cell_type": "code",
   "execution_count": null,
   "metadata": {},
   "outputs": [],
   "source": [
    "frequencies <- cdf(\n",
    "  data  = pecs,\n",
    "  value = \"pec\"\n",
    ")"
   ]
  },
  {
   "cell_type": "markdown",
   "metadata": {},
   "source": [
    "### CDF plot (absolute)"
   ]
  },
  {
   "cell_type": "code",
   "execution_count": null,
   "metadata": {},
   "outputs": [],
   "source": [
    "cdf_plot_absolute(\n",
    "    frequencies  = frequencies,\n",
    "    x_axis_label = \"concentration threshold [ug/l]\",\n",
    "    output_file  = file.path(experiment_dir, \"PECsw_cdf_absolute.png\")\n",
    ")"
   ]
  },
  {
   "cell_type": "markdown",
   "metadata": {},
   "source": [
    "### CDF plot (relative)"
   ]
  },
  {
   "cell_type": "code",
   "execution_count": null,
   "metadata": {},
   "outputs": [],
   "source": [
    "cdf_plot_relative(\n",
    "    frequencies  = frequencies,\n",
    "    x_axis_label = \"concentration threshold [ug/l]\",\n",
    "    output_file  = file.path(experiment_dir, \"PECsw_cdf_relative.png\")\n",
    ")"
   ]
  },
  {
   "cell_type": "markdown",
   "metadata": {},
   "source": [
    "### PEC cumulative plot"
   ]
  },
  {
   "cell_type": "code",
   "execution_count": null,
   "metadata": {},
   "outputs": [],
   "source": [
    "cumulative_plot(\n",
    "    data         = pecs,\n",
    "    value        = \"pec\",\n",
    "    y_axis_label = \"log10(PECsw [ug/l])\",\n",
    "    output_file  = file.path(experiment_dir, \"PECsw_cumulative_plot.png\")\n",
    ")"
   ]
  },
  {
   "cell_type": "markdown",
   "metadata": {},
   "source": [
    "### Cumulative plot per Strahler order"
   ]
  },
  {
   "cell_type": "code",
   "execution_count": 33,
   "metadata": {},
   "outputs": [
    {
     "name": "stderr",
     "output_type": "stream",
     "text": [
      "Saving 6.67 x 6.67 in image\n",
      "\n"
     ]
    }
   ],
   "source": [
    "source(\"default_reporting_elements.R\")\n",
    "cumulative_plot_strahler(\n",
    "    data         = pecs,\n",
    "    value        = \"pec\",\n",
    "    y_axis_label = \"log10(PECsw [ug/l])\",\n",
    "    output_file  = file.path(experiment_dir, \"PECsw_cumulative_plot_per_strahler.png\")\n",
    ")"
   ]
  },
  {
   "cell_type": "markdown",
   "metadata": {},
   "source": [
    "## Effects\n",
    "### Survival probability table"
   ]
  },
  {
   "cell_type": "code",
   "execution_count": 39,
   "metadata": {},
   "outputs": [
    {
     "name": "stdout",
     "output_type": "stream",
     "text": [
      "   |++++++++++++++++++++++++++++++++++++++++++++++++++| 100% elapsed = 04s\n",
      "   |++++++++++++++++++++++++++++++++++++++++++++++++++| 100% elapsed = 04s\n",
      "   |++++++++++++++++++++++++++++++++++++++++++++++++++| 100% elapsed = 04s\n",
      "   |++++++++++++++++++++++++++++++++++++++++++++++++++| 100% elapsed = 22s\n"
     ]
    }
   ],
   "source": [
    "survival_probability_table(\n",
    "    experiment_dir         = experiment_dir,\n",
    "    datasets_prefix        = \"/IndEffect_CascadeToxswa\",\n",
    "    datasets_suffix        = \"/GutsSurvivalReaches\",\n",
    "    reaches                = \"/CascadeToxswa/Reaches\",\n",
    "    simulation_start       = \"/PPM/SimulationStart\",\n",
    "    species_names          = c(\"Asellus aquaticus\", \"Cloeon dipterum\", \"Gammarus pulex\"),\n",
    "    hydrography_ids        = \"/LandscapeScenario/hydrography_id\",\n",
    "    strahler_order         = \"/LandscapeScenario/hydrography_strahler_order\",\n",
    "    output_file            = file.path(experiment_dir, \"Effect_LGUTS_survival_probability.csv\")\n",
    ")"
   ]
  },
  {
   "cell_type": "markdown",
   "metadata": {},
   "source": [
    "### LP50 table"
   ]
  },
  {
   "cell_type": "code",
   "execution_count": 41,
   "metadata": {},
   "outputs": [
    {
     "name": "stdout",
     "output_type": "stream",
     "text": [
      "   |++++++++++++++++++++++++++++++++++++++++++++++++++| 100% elapsed = 04s\n"
     ]
    },
    {
     "name": "stderr",
     "output_type": "stream",
     "text": [
      "Warning message in eval(jsub, SDenv, parent.frame()):\n",
      "\"NAs introduced by coercion\"\n"
     ]
    },
    {
     "name": "stdout",
     "output_type": "stream",
     "text": [
      "   |++++++++++++++++++++++++++++++++++++++++++++++++++| 100% elapsed = 04s\n"
     ]
    },
    {
     "name": "stderr",
     "output_type": "stream",
     "text": [
      "Warning message in eval(jsub, SDenv, parent.frame()):\n",
      "\"NAs introduced by coercion\"\n"
     ]
    },
    {
     "name": "stdout",
     "output_type": "stream",
     "text": [
      "   |++++++++++++++++++++++++++++++++++++++++++++++++++| 100% elapsed = 05s\n"
     ]
    },
    {
     "name": "stderr",
     "output_type": "stream",
     "text": [
      "Warning message in eval(jsub, SDenv, parent.frame()):\n",
      "\"NAs introduced by coercion\"\n"
     ]
    },
    {
     "name": "stdout",
     "output_type": "stream",
     "text": [
      "   |++++++++++++++++++++++++++++++++++++++++++++++++++| 100% elapsed = 23s\n"
     ]
    }
   ],
   "source": [
    "lp50_table(\n",
    "    experiment_dir         = experiment_dir,\n",
    "    datasets_prefix        = \"/IndEffect_LP50_CascadeToxswa\",\n",
    "    datasets_suffix        = \"/LP50\",\n",
    "    reaches                = \"/CascadeToxswa/Reaches\",\n",
    "    simulation_start       = \"/PPM/SimulationStart\",\n",
    "    species_names          = c(\"Asellus aquaticus\", \"Cloeon dipterum\", \"Gammarus pulex\"),\n",
    "    hydrography_ids        = \"/LandscapeScenario/hydrography_id\",\n",
    "    strahler_order         = \"/LandscapeScenario/hydrography_strahler_order\",\n",
    "    output_file            = file.path(experiment_dir, \"Effect_LGUTS_LP50.csv\")\n",
    ")"
   ]
  }
 ],
 "metadata": {
  "kernelspec": {
   "display_name": "R",
   "language": "R",
   "name": "ir"
  },
  "language_info": {
   "codemirror_mode": "r",
   "file_extension": ".r",
   "mimetype": "text/x-r-source",
   "name": "R",
   "pygments_lexer": "r",
   "version": "3.5.1"
  }
 },
 "nbformat": 4,
 "nbformat_minor": 4
}
